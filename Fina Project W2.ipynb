{
    "nbformat_minor": 1, 
    "cells": [
        {
            "source": "We will using the data from Foursquare to search for the information below\n1. List of Restaurant Nearby Petaling Jaya selangor Malaysia\n2. Category of each restaurant\n3. Distrance of each restaurant from Petaling Jaya Selangor Malaysia to estima the travel time.\n4. what is the user tips ", 
            "cell_type": "markdown", 
            "metadata": {
                "collapsed": true
            }
        }
    ], 
    "metadata": {
        "kernelspec": {
            "display_name": "Python 3.5", 
            "name": "python3", 
            "language": "python"
        }, 
        "language_info": {
            "mimetype": "text/x-python", 
            "nbconvert_exporter": "python", 
            "version": "3.5.5", 
            "name": "python", 
            "file_extension": ".py", 
            "pygments_lexer": "ipython3", 
            "codemirror_mode": {
                "version": 3, 
                "name": "ipython"
            }
        }
    }, 
    "nbformat": 4
}