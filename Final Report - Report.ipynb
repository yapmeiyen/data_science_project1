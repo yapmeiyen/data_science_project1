{
    "nbformat_minor": 1, 
    "cells": [
        {
            "source": "Below is result from foursquare", 
            "cell_type": "markdown", 
            "metadata": {
                "collapsed": true
            }
        }, 
        {
            "source": "List of Restaurant \n0                               Paya Serai Restaurant\n1                           Genji Japanese Restaurant\n2                              Yue Chinese Restaurant\n3                          Imperial Garden Restaurant\n4             Sango Japanese Restaurant (\u4e09\u90f7\u65e5\u672c\u6599\u7406\u30ec\u30b9\u30c8\u30e9\u30f3)\n5                         Ume Tei Japanese Restaurant\n6                         Oversea Restaurant (\u6d77\u5916\u5929\u5927\u98ef\u5e97)\n7                  Restaurant Sederhana Petaling Jaya\n8                 Restaurant Sri Saravana Curry House\n9                       Restaurant BNS Maju Sdn. Bhd.\n10                                                A&W\n11                 Restaurant Zone Eight White Coffee\n12                  Restaurant Tou Tou, Seri Petaling\n13       Restaurant Chef  rasa Sayang Kristal Sdn Bhd\n14                        Toh Yuen Chinese Restaurant\n15                               Restoran Syed Bistro\n16                     Japanese Restaurant, PJ Hilton\n17                       the italian restaurant @ BAC\n18                     Ren Ren Bak Kut Teh Restaurant\n19                       Pizza Hut Restaurant Sdn Bhd\n20                              Rokaru Restaurant Pub\n21                              The Janova Restaurant\n22         Chef Rasa Sayang Chinese Restaurant (\u4e2d\u56fd\u9910\u9986)\n23    At HLT Restaurant (jinjang) Sdn Bhd \u559c\u6765\u767b(\u589e\u6c5f)\u6d77\u9c9c\u9152\u5bb6\n24                                 Restoran Al Hayath\n25                                  Hilton restaurant\n26                                 Utara Coffee House\n27                                      Restoran Jaya\n28                         Janova Banana Leaf Cuisine\n29                                Gazebo Shah Village\n", 
            "cell_type": "raw", 
            "metadata": {}
        }, 
        {
            "source": "Category of Restaurant & Total of each category", 
            "cell_type": "markdown", 
            "metadata": {}
        }, 
        {
            "source": "No\tCategory\tTotal\n1\tAsian Restaurant\t2\n3\tBusiness Center\t1\n4\tChinese Restaurant\t6\n5\tFast Food Restaurant\t1\n6\tHotel Bar\t1\n7\tIndian Restaurant\t5\n8\tIndonesian Restaurant\t2\n9\tItalian Restaurant\t1\n10\tJapanese Restaurant\t4\n11\tMalay Restaurant\t2\n12\tOffice\t1\n13\tPub\t1\n14\tnone\t3\n\n", 
            "cell_type": "raw", 
            "metadata": {}
        }, 
        {
            "source": "Based on the result, Petaling Jaya have many Chinese Restaurant. We further zoom in the respond of customer on each Chinese Restaurant with result as below", 
            "cell_type": "markdown", 
            "metadata": {}
        }, 
        {
            "source": "Restaurant\tTips\tRating\nYue Chinese Restaurant\t0\t0\nImperial Garden Restaurant\t33\t5.3\nOversea Restaurant (\u6d77\u5916\u5929\u5927\u98ef\u5e97)\t26\t5.1\nToh Yuen Chinese Restaurant\t16\t6.2\nRen Ren Bak Kut Teh Restaurant\t0\t0\nChef Rasa Sayang Chinese Restaurant (\u4e2d\u56fd\u9910\u9986)\t0\t0\n", 
            "cell_type": "raw", 
            "metadata": {}
        }, 
        {
            "source": "Based on the foursquare data on customer respond, we can conclude that most popular Chinese restaurant in Petaling Jaya is Toh Yuen Chinese Restaurant with rating 6.2. We can suggest board of ABC directors to open a Chinese Restaurant near PJ area offer the same style such as Toh Yuen Chinese Restaurant", 
            "cell_type": "markdown", 
            "metadata": {}
        }, 
        {
            "execution_count": null, 
            "cell_type": "code", 
            "metadata": {}, 
            "outputs": [], 
            "source": ""
        }
    ], 
    "metadata": {
        "kernelspec": {
            "display_name": "Python 3.5", 
            "name": "python3", 
            "language": "python"
        }, 
        "language_info": {
            "mimetype": "text/x-python", 
            "nbconvert_exporter": "python", 
            "version": "3.5.5", 
            "name": "python", 
            "file_extension": ".py", 
            "pygments_lexer": "ipython3", 
            "codemirror_mode": {
                "version": 3, 
                "name": "ipython"
            }
        }
    }, 
    "nbformat": 4
}