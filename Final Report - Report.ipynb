{
    "nbformat_minor": 1, 
    "cells": [
        {
            "source": "1. Introduction/Business Problem:\nABC Company Group have an existing restaurant Penang, Malaysia. It had been successful and ABC Company Group would like to open a branch around Petaling Jaya. Location is one of key factor to success of any restaurant\n", 
            "cell_type": "markdown", 
            "metadata": {}
        }, 
        {
            "source": "2. Data:\nThe source of data here would be mainly using restaurant in Petaling Jaya. To achieve this, we will search the search the longitude and latitude of Petaling Jaya in order for us to use the geocoder api.\nNext, we will using foursquare location API to get the list of restaurant in Petaling Jaya, category of restaurant and customer respond of selected category restaurant. \nThe main libraries and tools we will be using are; Python packages: pandas, requests, geocoder, folium, json and json_normalize. API's: foursquare location API\n\n", 
            "cell_type": "markdown", 
            "metadata": {}
        }, 
        {
            "source": "3. Methodology:\nAs part of study, I have using the \u201cPetaling Jaya Selangor\u201d to get their geographical coordinate details by using geocoder library.\nOut the searching result into dataframe then we have total 29 restaurant postal code, categories, latitude, longitude and referraID.\nIn order to explore the dataset, first visualize the list of restaurant in world map with help of folium package available in python and using the foursquare location API to get the result in Json format.\nIn order to find out best restaurant currently at Petaling jaya, I use the filter to get the name and categories of restaurant in Petaling Jaya. Based on the result, I further zoom in to get the customer rating of most popular category restaurant.\n", 
            "cell_type": "markdown", 
            "metadata": {}
        }, 
        {
            "source": "4. Results:\nBased on the result, we found out that in Petaling Jaya most popular categories of restaurant is Chinese Restaurant and Toh Yuen Chinese restaurant is get the best rating among them.\nThe results profoundly indicating that, ABC Group can consider to open Chinese restaurant in Petaling Jaya area.\n", 
            "cell_type": "markdown", 
            "metadata": {}
        }, 
        {
            "source": "5. Discussion:\nAs per analysis and results, company \u201cToh Yuen Chinese Restaurant\u201d is getting the best rating from customer in Petaling Jaya. So, it had been suggested to ABC company to open Chinese Restaurant in Petaling Jaya\n", 
            "cell_type": "markdown", 
            "metadata": {}
        }, 
        {
            "source": "6. Conclusion:\nBased on the result, showing that Petaling Jaya have many type of population customer segment. However, Chinese restaurant still the most favour restaurant and ABC company can to analysis and decide to open a branch in Petaling Jaya.\n", 
            "cell_type": "markdown", 
            "metadata": {}
        }, 
        {
            "execution_count": null, 
            "cell_type": "code", 
            "metadata": {}, 
            "outputs": [], 
            "source": ""
        }
    ], 
    "metadata": {
        "kernelspec": {
            "display_name": "Python 3.5", 
            "name": "python3", 
            "language": "python"
        }, 
        "language_info": {
            "mimetype": "text/x-python", 
            "nbconvert_exporter": "python", 
            "version": "3.5.5", 
            "name": "python", 
            "file_extension": ".py", 
            "pygments_lexer": "ipython3", 
            "codemirror_mode": {
                "version": 3, 
                "name": "ipython"
            }
        }
    }, 
    "nbformat": 4
}