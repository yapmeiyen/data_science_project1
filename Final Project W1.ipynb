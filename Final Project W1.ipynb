{
    "nbformat_minor": 1, 
    "cells": [
        {
            "source": "ABC Company Group have an existing restaurant Penang, Malaysia. It had been successful and ABC Company Group would like to open a branch around Petaling Jaya. \n", 
            "cell_type": "markdown", 
            "metadata": {
                "collapsed": true
            }
        }, 
        {
            "source": "Location is one of key factor to success of any restaurant. They would like to evaluate evaluate demographics of the Petaling Jaya community as below\n\n", 
            "cell_type": "markdown", 
            "metadata": {}
        }, 
        {
            "source": "a.\tList of restaurant within Petaling Jaya\n", 
            "cell_type": "markdown", 
            "metadata": {}
        }, 
        {
            "source": "b.\tCategory of restaurant within Petaling Jaya.\n", 
            "cell_type": "markdown", 
            "metadata": {}
        }, 
        {
            "source": "c.\tNearby competing restaurants \n\n", 
            "cell_type": "markdown", 
            "metadata": {}
        }, 
        {
            "source": "e.\tAge of customer", 
            "cell_type": "markdown", 
            "metadata": {}
        }, 
        {
            "source": "Problem : which of target communities most closely align with characteristic of our current successful branch in Penang.\nTarget Audience : Board of ABC directors ", 
            "cell_type": "markdown", 
            "metadata": {}
        }
    ], 
    "metadata": {
        "kernelspec": {
            "display_name": "Python 3.5", 
            "name": "python3", 
            "language": "python"
        }, 
        "language_info": {
            "mimetype": "text/x-python", 
            "nbconvert_exporter": "python", 
            "version": "3.5.5", 
            "name": "python", 
            "file_extension": ".py", 
            "pygments_lexer": "ipython3", 
            "codemirror_mode": {
                "version": 3, 
                "name": "ipython"
            }
        }
    }, 
    "nbformat": 4
}